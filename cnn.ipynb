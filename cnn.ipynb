{
  "nbformat": 4,
  "nbformat_minor": 0,
  "metadata": {
    "colab": {
      "name": "cnn.ipynb",
      "provenance": [],
      "collapsed_sections": [],
      "authorship_tag": "ABX9TyOHQh/4saU8WjhkrOg/AOuD",
      "include_colab_link": true
    },
    "kernelspec": {
      "name": "python3",
      "display_name": "Python 3"
    }
  },
  "cells": [
    {
      "cell_type": "markdown",
      "metadata": {
        "id": "view-in-github",
        "colab_type": "text"
      },
      "source": [
        "<a href=\"https://colab.research.google.com/github/amino19/Shape-AI-Notebook/blob/main/cnn.ipynb\" target=\"_parent\"><img src=\"https://colab.research.google.com/assets/colab-badge.svg\" alt=\"Open In Colab\"/></a>"
      ]
    },
    {
      "cell_type": "markdown",
      "metadata": {
        "id": "-OSSHeDTfEkQ"
      },
      "source": [
        "**IMPORTING MODULES**"
      ]
    },
    {
      "cell_type": "code",
      "metadata": {
        "id": "e_XLOdJ3aEwS"
      },
      "source": [
        "import tensorflow as tf"
      ],
      "execution_count": 1,
      "outputs": []
    },
    {
      "cell_type": "code",
      "metadata": {
        "id": "ciKDBnC1bVaK"
      },
      "source": [
        "from tensorflow.keras import datasets, layers, models\r\n",
        "import matplotlib.pyplot as plt"
      ],
      "execution_count": 2,
      "outputs": []
    },
    {
      "cell_type": "markdown",
      "metadata": {
        "id": "JqFzZIH4ecGf"
      },
      "source": [
        "**DOWNLOAD & PREPARE THE CIFAR10 DATASET**"
      ]
    },
    {
      "cell_type": "code",
      "metadata": {
        "id": "UE0uOctrbWTZ"
      },
      "source": [
        "(train_images, train_labels), (test_images, test_labels) = datasets.cifar10.load_data()\r\n",
        "\r\n",
        "# Normalize pixel values to be between 0 and 1\r\n",
        "train_images, test_images = train_images / 255.0, test_images / 255.0"
      ],
      "execution_count": 3,
      "outputs": []
    },
    {
      "cell_type": "markdown",
      "metadata": {
        "id": "lBGcLDAhg8zE"
      },
      "source": [
        "**CREATING CONVOLUTIONAL BASE**"
      ]
    },
    {
      "cell_type": "code",
      "metadata": {
        "id": "1aZRXlGpfj8Y"
      },
      "source": [
        "# Sequencing model\r\n",
        "model = models.Sequential()\r\n",
        "\r\n",
        "# Adding layers to it..\r\n",
        "model.add(layers.Conv2D(32, (3, 3), activation='relu', input_shape=(32, 32, 3)))\r\n",
        "model.add(layers.MaxPooling2D((2, 2)))\r\n",
        "model.add(layers.Conv2D(64, (3, 3), activation='relu'))\r\n",
        "model.add(layers.MaxPooling2D((2, 2)))\r\n",
        "model.add(layers.Conv2D(64, (3, 3), activation='relu')) # Last Convolutional layer"
      ],
      "execution_count": 4,
      "outputs": []
    },
    {
      "cell_type": "code",
      "metadata": {
        "colab": {
          "base_uri": "https://localhost:8080/"
        },
        "id": "4MMJe3-xiIVh",
        "outputId": "7393d0d2-d8c1-4c31-c598-251f4fa8f8e7"
      },
      "source": [
        "# defines summary of the entire model\r\n",
        "model.summary()"
      ],
      "execution_count": 6,
      "outputs": [
        {
          "output_type": "stream",
          "text": [
            "Model: \"sequential\"\n",
            "_________________________________________________________________\n",
            "Layer (type)                 Output Shape              Param #   \n",
            "=================================================================\n",
            "conv2d (Conv2D)              (None, 30, 30, 32)        896       \n",
            "_________________________________________________________________\n",
            "max_pooling2d (MaxPooling2D) (None, 15, 15, 32)        0         \n",
            "_________________________________________________________________\n",
            "conv2d_1 (Conv2D)            (None, 13, 13, 64)        18496     \n",
            "_________________________________________________________________\n",
            "max_pooling2d_1 (MaxPooling2 (None, 6, 6, 64)          0         \n",
            "_________________________________________________________________\n",
            "conv2d_2 (Conv2D)            (None, 4, 4, 64)          36928     \n",
            "=================================================================\n",
            "Total params: 56,320\n",
            "Trainable params: 56,320\n",
            "Non-trainable params: 0\n",
            "_________________________________________________________________\n"
          ],
          "name": "stdout"
        }
      ]
    },
    {
      "cell_type": "markdown",
      "metadata": {
        "id": "JLXbhTSPjjnN"
      },
      "source": [
        "**ADD DENSE LAYER AS FRAMEWORK, ON TOP**"
      ]
    },
    {
      "cell_type": "code",
      "metadata": {
        "id": "1XZ5Lg1Zii2Q"
      },
      "source": [
        "# Flatten the entire convolutional outputs (in matrix)\r\n",
        "model.add(layers.Flatten())\r\n",
        "\r\n",
        "# Adding dense layer (convolutional layer) \r\n",
        "model.add(layers.Dense(64, activation='relu'))\r\n",
        "model.add(layers.Dense(10))"
      ],
      "execution_count": 7,
      "outputs": []
    },
    {
      "cell_type": "code",
      "metadata": {
        "colab": {
          "base_uri": "https://localhost:8080/"
        },
        "id": "X1Hk8axKkKue",
        "outputId": "795c2567-38ac-4927-a98b-29e0423eade3"
      },
      "source": [
        "# By complete architecture of model, we get :\r\n",
        "model.summary()"
      ],
      "execution_count": 8,
      "outputs": [
        {
          "output_type": "stream",
          "text": [
            "Model: \"sequential\"\n",
            "_________________________________________________________________\n",
            "Layer (type)                 Output Shape              Param #   \n",
            "=================================================================\n",
            "conv2d (Conv2D)              (None, 30, 30, 32)        896       \n",
            "_________________________________________________________________\n",
            "max_pooling2d (MaxPooling2D) (None, 15, 15, 32)        0         \n",
            "_________________________________________________________________\n",
            "conv2d_1 (Conv2D)            (None, 13, 13, 64)        18496     \n",
            "_________________________________________________________________\n",
            "max_pooling2d_1 (MaxPooling2 (None, 6, 6, 64)          0         \n",
            "_________________________________________________________________\n",
            "conv2d_2 (Conv2D)            (None, 4, 4, 64)          36928     \n",
            "_________________________________________________________________\n",
            "flatten (Flatten)            (None, 1024)              0         \n",
            "_________________________________________________________________\n",
            "dense (Dense)                (None, 64)                65600     \n",
            "_________________________________________________________________\n",
            "dense_1 (Dense)              (None, 10)                650       \n",
            "=================================================================\n",
            "Total params: 122,570\n",
            "Trainable params: 122,570\n",
            "Non-trainable params: 0\n",
            "_________________________________________________________________\n"
          ],
          "name": "stdout"
        }
      ]
    },
    {
      "cell_type": "markdown",
      "metadata": {
        "id": "KnrYLRdfkxtw"
      },
      "source": [
        "**COMPILING & TRAIN MODEL**"
      ]
    },
    {
      "cell_type": "code",
      "metadata": {
        "colab": {
          "base_uri": "https://localhost:8080/"
        },
        "id": "_1kCGTThkXOi",
        "outputId": "1d2805d5-0553-492e-e208-09a5889efa50"
      },
      "source": [
        "model.compile(optimizer='adam',\r\n",
        "              loss=tf.keras.losses.SparseCategoricalCrossentropy(from_logits=True),\r\n",
        "              metrics=['accuracy'])\r\n",
        "\r\n",
        "history = model.fit(train_images, train_labels, epochs=10, \r\n",
        "                    validation_data=(test_images, test_labels))"
      ],
      "execution_count": 9,
      "outputs": [
        {
          "output_type": "stream",
          "text": [
            "Epoch 1/10\n",
            "1563/1563 [==============================] - 72s 46ms/step - loss: 1.7255 - accuracy: 0.3599 - val_loss: 1.2624 - val_accuracy: 0.5515\n",
            "Epoch 2/10\n",
            "1563/1563 [==============================] - 70s 44ms/step - loss: 1.1711 - accuracy: 0.5857 - val_loss: 1.0952 - val_accuracy: 0.6103\n",
            "Epoch 3/10\n",
            "1563/1563 [==============================] - 69s 44ms/step - loss: 0.9961 - accuracy: 0.6530 - val_loss: 1.0484 - val_accuracy: 0.6388\n",
            "Epoch 4/10\n",
            "1563/1563 [==============================] - 68s 44ms/step - loss: 0.8730 - accuracy: 0.6939 - val_loss: 0.9273 - val_accuracy: 0.6734\n",
            "Epoch 5/10\n",
            "1563/1563 [==============================] - 67s 43ms/step - loss: 0.7936 - accuracy: 0.7240 - val_loss: 0.8803 - val_accuracy: 0.6958\n",
            "Epoch 6/10\n",
            "1563/1563 [==============================] - 68s 44ms/step - loss: 0.7233 - accuracy: 0.7471 - val_loss: 0.8327 - val_accuracy: 0.7103\n",
            "Epoch 7/10\n",
            "1563/1563 [==============================] - 68s 44ms/step - loss: 0.6602 - accuracy: 0.7708 - val_loss: 0.8699 - val_accuracy: 0.7027\n",
            "Epoch 8/10\n",
            "1563/1563 [==============================] - 68s 44ms/step - loss: 0.6076 - accuracy: 0.7887 - val_loss: 1.0014 - val_accuracy: 0.6783\n",
            "Epoch 9/10\n",
            "1563/1563 [==============================] - 69s 44ms/step - loss: 0.5736 - accuracy: 0.8015 - val_loss: 0.8827 - val_accuracy: 0.7139\n",
            "Epoch 10/10\n",
            "1563/1563 [==============================] - 68s 43ms/step - loss: 0.5211 - accuracy: 0.8185 - val_loss: 0.8957 - val_accuracy: 0.7103\n"
          ],
          "name": "stdout"
        }
      ]
    },
    {
      "cell_type": "markdown",
      "metadata": {
        "id": "h7VWAyrAlArf"
      },
      "source": [
        "**EVALUATE IT..**"
      ]
    },
    {
      "cell_type": "code",
      "metadata": {
        "colab": {
          "base_uri": "https://localhost:8080/",
          "height": 301
        },
        "id": "KZEVaLa5k82I",
        "outputId": "49ce3637-679a-482b-bb9e-8c4dc3b6a6d9"
      },
      "source": [
        "plt.plot(history.history['accuracy'], label='accuracy')\r\n",
        "plt.plot(history.history['val_accuracy'], label = 'val_accuracy')\r\n",
        "plt.xlabel('Epoch')\r\n",
        "plt.ylabel('Accuracy')\r\n",
        "plt.ylim([0.5, 1])\r\n",
        "plt.legend(loc='lower right')\r\n",
        "\r\n",
        "test_loss, test_acc = model.evaluate(test_images,  test_labels, verbose=2)"
      ],
      "execution_count": 10,
      "outputs": [
        {
          "output_type": "stream",
          "text": [
            "313/313 - 4s - loss: 0.8957 - accuracy: 0.7103\n"
          ],
          "name": "stdout"
        },
        {
          "output_type": "display_data",
          "data": {
            "image/png": "[encoded data removed]",
            "text/plain": [
              "<Figure size 432x288 with 1 Axes>"
            ]
          },
          "metadata": {
            "tags": [],
            "needs_background": "light"
          }
        }
      ]
    },
    {
      "cell_type": "code",
      "metadata": {
        "colab": {
          "base_uri": "https://localhost:8080/"
        },
        "id": "5MGydrYhlOsm",
        "outputId": "caeb1183-076f-4344-fd2c-459062468d26"
      },
      "source": [
        "print(test_acc)"
      ],
      "execution_count": 11,
      "outputs": [
        {
          "output_type": "stream",
          "text": [
            "0.7103000283241272\n"
          ],
          "name": "stdout"
        }
      ]
    }
  ]
}