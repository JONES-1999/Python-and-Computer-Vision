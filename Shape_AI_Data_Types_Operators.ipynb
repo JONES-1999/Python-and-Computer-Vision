{
  "nbformat": 4,
  "nbformat_minor": 0,
  "metadata": {
    "colab": {
      "name": "Shape_AI_Data_Types_Operators.ipynb",
      "provenance": [],
      "collapsed_sections": [],
      "include_colab_link": true
    },
    "kernelspec": {
      "name": "python3",
      "display_name": "Python 3"
    }
  },
  "cells": [
    {
      "cell_type": "markdown",
      "metadata": {
        "id": "view-in-github",
        "colab_type": "text"
      },
      "source": [
        "<a href=\"https://colab.research.google.com/github/amino19/Shape-AI-Notebook/blob/main/Shape_AI_Data_Types_Operators.ipynb\" target=\"_parent\"><img src=\"https://colab.research.google.com/assets/colab-badge.svg\" alt=\"Open In Colab\"/></a>"
      ]
    },
    {
      "cell_type": "markdown",
      "metadata": {
        "id": "WdDeRs8nwsse"
      },
      "source": [
        "<b><h1>Data Types and Operators</h1></b>\n",
        "<h4>Welcome to this lesson on Data Types and Operators! You'll learn about:\n",
        "</h4>\n",
        "\n",
        "* **Data Types:** Integers, Floats, Booleans, \n",
        "Strings, Lists, Tuples, Sets, Dictionaries\n",
        "\n",
        "* **Operators:** Arithmetic, Assignment, Comparison, Logical, Membership, Identity\n",
        "\n",
        "* Built-In Functions, Compound Data Structures, Type Conversion\n",
        "\n",
        "* Whitespace and Style Guidelines"
      ]
    },
    {
      "cell_type": "markdown",
      "metadata": {
        "id": "PR-M6YwHxkoW"
      },
      "source": [
        "<br><br>\n",
        "\n",
        "<h2><b>1. Print() function in python:</b></h2>\n",
        "\n",
        "You will be seeing this print function very frequently in python programming. It helps us to see what exactly is happening in our code.\n",
        "\n",
        "Try to run the next lines of code and see what happens next:"
      ]
    },
    {
      "cell_type": "code",
      "metadata": {
        "id": "x_R9bFHvvu1f",
        "colab": {
          "base_uri": "https://localhost:8080/"
        },
        "outputId": "20c2e166-4ebc-4658-e942-2b05c1cda54c"
      },
      "source": [
        "2+7\n",
        "2*7"
      ],
      "execution_count": null,
      "outputs": [
        {
          "output_type": "execute_result",
          "data": {
            "text/plain": [
              "14"
            ]
          },
          "metadata": {
            "tags": []
          },
          "execution_count": 1
        }
      ]
    },
    {
      "cell_type": "markdown",
      "metadata": {
        "id": "_nKLdWFIyZt-"
      },
      "source": [
        "* You will see that even though you had written 2 lines of code only the last line of code gets seen in the output area.\n",
        "\n",
        "Now this happens because you haven't told python what to alctually do with it.\n",
        "\n",
        "This is where *print()* comes in. *print()* in python is a useful builtin function that we can use to display input value as text in the output. "
      ]
    },
    {
      "cell_type": "code",
      "metadata": {
        "id": "p2xPUnXMyYA7",
        "colab": {
          "base_uri": "https://localhost:8080/"
        },
        "outputId": "93dd332c-2e51-43e2-9691-b24603d4b903"
      },
      "source": [
        "print(2+7)\n",
        "print(2*7)"
      ],
      "execution_count": null,
      "outputs": [
        {
          "output_type": "stream",
          "text": [
            "9\n",
            "14\n"
          ],
          "name": "stdout"
        }
      ]
    },
    {
      "cell_type": "code",
      "metadata": {
        "id": "ZoMyiceiJTAp",
        "colab": {
          "base_uri": "https://localhost:8080/"
        },
        "outputId": "875f50b8-41e8-42b7-c76f-6c64cba967ac"
      },
      "source": [
        "print('Hello World!!!!')"
      ],
      "execution_count": null,
      "outputs": [
        {
          "output_type": "stream",
          "text": [
            "Hello World!!!!\n"
          ],
          "name": "stdout"
        }
      ]
    },
    {
      "cell_type": "markdown",
      "metadata": {
        "id": "uVi1mZvCCuSV"
      },
      "source": [
        "<br><br>\n",
        "\n",
        "## **4. Variables:**<br>\n",
        "Understanding variables is very important in any programming language they are used all the time in python. Using variables in place of direct numbers have many advantages. Variables are used to store information to be referenced and manipulated in a computer program.\n",
        "\n",
        "Creating a new variable in python is very simple, lets create one together, here in this example below the variable name is *month*, the equal sign is the assignment operator and the value of the variable is 12."
      ]
    },
    {
      "cell_type": "code",
      "metadata": {
        "id": "kIeQxFP67CNX",
        "colab": {
          "base_uri": "https://localhost:8080/"
        },
        "outputId": "52aed77f-5774-4bb9-8486-4c663534db13"
      },
      "source": [
        "month=12\n",
        "print(month)"
      ],
      "execution_count": null,
      "outputs": [
        {
          "output_type": "stream",
          "text": [
            "12\n"
          ],
          "name": "stdout"
        }
      ]
    },
    {
      "cell_type": "markdown",
      "metadata": {
        "id": "hfgtXMqGDI2l"
      },
      "source": [
        "Now its your turn create a variable named *rent* with its value being 1700"
      ]
    },
    {
      "cell_type": "code",
      "metadata": {
        "id": "slBwG5njDHik",
        "colab": {
          "base_uri": "https://localhost:8080/"
        },
        "outputId": "50e1535c-2ce9-4a93-fecb-f8fd83a105ea"
      },
      "source": [
        "# create and print the varibale rent down below\r\n",
        "\r\n",
        "f = 1700\r\n",
        "print(f)"
      ],
      "execution_count": null,
      "outputs": [
        {
          "output_type": "stream",
          "text": [
            "1700\n"
          ],
          "name": "stdout"
        }
      ]
    },
    {
      "cell_type": "markdown",
      "metadata": {
        "id": "dCgFMQt8Dc6a"
      },
      "source": [
        "##### Expected output:<br>1700"
      ]
    },
    {
      "cell_type": "markdown",
      "metadata": {
        "id": "ESJS8yE9J0zB"
      },
      "source": [
        "In any case, whatever term is on the left side, is now a name for whatever value is on the right side. Once a value has been assigned to a variable name, you can access the value from the variable name.\n",
        "\n",
        "For example if we run this code we will get 3 as the output here as in the first line we assigned 3 to *a* and in the second line we assigned *a* to *b* so when we print *b* we get 3 as the output."
      ]
    },
    {
      "cell_type": "code",
      "metadata": {
        "id": "0Kg1PjaUDaLl",
        "colab": {
          "base_uri": "https://localhost:8080/"
        },
        "outputId": "f7b5f3aa-e7bb-4012-f69e-c25d6a4df6af"
      },
      "source": [
        "a=3\n",
        "b=a\n",
        "print(b)"
      ],
      "execution_count": null,
      "outputs": [
        {
          "output_type": "stream",
          "text": [
            "3\n"
          ],
          "name": "stdout"
        }
      ]
    },
    {
      "cell_type": "markdown",
      "metadata": {
        "id": "icTPtDSAKjEr"
      },
      "source": [
        "If we don't declare the variable and try to print the output then we will get the following error "
      ]
    },
    {
      "cell_type": "code",
      "metadata": {
        "id": "P_KmqiPBJ5_Z",
        "colab": {
          "base_uri": "https://localhost:8080/",
          "height": 166
        },
        "outputId": "23160c6b-b852-4bb7-ab89-b607a975bb57"
      },
      "source": [
        "print(x)         # to remove this error, first we've to initialize 'x'"
      ],
      "execution_count": null,
      "outputs": [
        {
          "output_type": "error",
          "ename": "NameError",
          "evalue": "ignored",
          "traceback": [
            "\u001b[0;31m---------------------------------------------------------------------------\u001b[0m",
            "\u001b[0;31mNameError\u001b[0m                                 Traceback (most recent call last)",
            "\u001b[0;32m<ipython-input-7-6893a7e7a79d>\u001b[0m in \u001b[0;36m<module>\u001b[0;34m()\u001b[0m\n\u001b[0;32m----> 1\u001b[0;31m \u001b[0mprint\u001b[0m\u001b[0;34m(\u001b[0m\u001b[0mx\u001b[0m\u001b[0;34m)\u001b[0m         \u001b[0;31m# to remove this error, first we've to initialize 'x'\u001b[0m\u001b[0;34m\u001b[0m\u001b[0;34m\u001b[0m\u001b[0m\n\u001b[0m",
            "\u001b[0;31mNameError\u001b[0m: name 'x' is not defined"
          ]
        }
      ]
    },
    {
      "cell_type": "markdown",
      "metadata": {
        "id": "PUE_n529K-Gp"
      },
      "source": [
        "<br><br>\n",
        "\n",
        "## **5. Multiple Assignment Operator:**\n",
        "\n",
        "Suppose you are making a program where in you enter the dimensions of the tank and it will give the volume of the tank as the output. So you can write code as:"
      ]
    },
    {
      "cell_type": "code",
      "metadata": {
        "id": "gZHy4uODKsQX",
        "colab": {
          "base_uri": "https://localhost:8080/"
        },
        "outputId": "edd3b42b-aff4-4357-c315-2c5aac3e3312"
      },
      "source": [
        "height = 3\n",
        "length = 6\n",
        "width = 2\n",
        "volume = height * length * width\n",
        "print(volume)"
      ],
      "execution_count": null,
      "outputs": [
        {
          "output_type": "stream",
          "text": [
            "36\n"
          ],
          "name": "stdout"
        }
      ]
    },
    {
      "cell_type": "markdown",
      "metadata": {
        "id": "PdSLF0z5N0Bq"
      },
      "source": [
        "Now python has a very useful way to assign multiple variables together in a single line using multiple assignment like this:"
      ]
    },
    {
      "cell_type": "code",
      "metadata": {
        "id": "cGr5tmszNwUe",
        "colab": {
          "base_uri": "https://localhost:8080/"
        },
        "outputId": "56089fdc-2609-4406-875a-568c53c39251"
      },
      "source": [
        "# this will now assign 3 to height, 6 to length and 2 to width just as before.\n",
        "height , length , width = 3 , 6 , 2\n",
        "volume = height * length * width\n",
        "print(volume)"
      ],
      "execution_count": null,
      "outputs": [
        {
          "output_type": "stream",
          "text": [
            "36\n"
          ],
          "name": "stdout"
        }
      ]
    },
    {
      "cell_type": "markdown",
      "metadata": {
        "id": "WbLxkJozSF5g"
      },
      "source": [
        "<br><br>\n",
        "\n",
        "## **6. Variable Naming Conventions:**\n",
        "\n",
        "There are some rules we need to follow while giving a name for a Python variable.\n",
        "\n",
        "- **Rule-1**: You should start variable name with an alphabet or **underscore(_)** character.\n",
        "- **Rule-2:** A variable name can only contain **A-Z,a-z,0-9** and **underscore(_)**.\n",
        "- **Rule-3:** You cannot start the variable name with a **number**.\n",
        "- **Rule-4:** You cannot use special characters with the variable name such as such as **$,%,#,&,@.-,^** etc.\n",
        "- **Rule-5**: Variable names are **case sensitive**. For example str and Str are two different variables.\n",
        "- **Rule-6:** Do not use reserve keyword as a variable name for example keywords like **class, for, def, del, is, else,** **try, from,** etc. more examples are given below and as we go through the course we will come across many more. Creating names that are descriptive of the values often will help you avoid using any of these words."
      ]
    },
    {
      "cell_type": "code",
      "metadata": {
        "id": "KtIoAjAKQ0Jh"
      },
      "source": [
        "#Allowed variable names\n",
        "\n",
        "x=2\n",
        "y=\"Hello\"\n",
        "mypython=\"PythonGuides\"\n",
        "my_python=\"PythonGuides\"\n",
        "_my_python=\"PythonGuides\"\n",
        "_mypython=\"PythonGuides\"\n",
        "MYPYTHON=\"PythonGuides\"\n",
        "myPython=\"PythonGuides\"\n",
        "myPython7=\"PythonGuides\""
      ],
      "execution_count": null,
      "outputs": []
    },
    {
      "cell_type": "code",
      "metadata": {
        "id": "HswApcdn-GTJ",
        "colab": {
          "base_uri": "https://localhost:8080/",
          "height": 131
        },
        "outputId": "85fe5b18-6fc4-4e6f-fe7d-36f7c5ec0a72"
      },
      "source": [
        "#Variable name not Allowed\n",
        "\n",
        "7mypython=\"PythonGuides\"\n",
        "-mypython=\"PythonGuides\"\n",
        "myPy@thon=\"PythonGuides\"\n",
        "my Python=\"PythonGuides\"\n",
        "for=\"PythonGuides\"\n",
        "\n",
        "#It shows invalid syntax. \n",
        "#It will execute one by one and will show the error."
      ],
      "execution_count": null,
      "outputs": [
        {
          "output_type": "error",
          "ename": "SyntaxError",
          "evalue": "ignored",
          "traceback": [
            "\u001b[0;36m  File \u001b[0;32m\"<ipython-input-11-23d4199b4438>\"\u001b[0;36m, line \u001b[0;32m3\u001b[0m\n\u001b[0;31m    7mypython=\"PythonGuides\"\u001b[0m\n\u001b[0m            ^\u001b[0m\n\u001b[0;31mSyntaxError\u001b[0m\u001b[0;31m:\u001b[0m invalid syntax\n"
          ]
        }
      ]
    },
    {
      "cell_type": "markdown",
      "metadata": {
        "id": "zoaFd7Jw-gVJ"
      },
      "source": [
        "Also there are some naming convention that needs to be followed like:\n",
        "\n",
        "* try to keep the name of the variables descriptive short but descriptive.    **for example:** when taking inputs for the height of a tree of a box the appropriate  variable name will be just *height* not *x* not *h* not *height_of_the_tree*.\n",
        "\n",
        "* Also the pythonic way to name variables is to use all lowercase letters and underscores to separate words."
      ]
    },
    {
      "cell_type": "code",
      "metadata": {
        "id": "R_5NxrWx-L2E"
      },
      "source": [
        "# pythonic way\n",
        "\n",
        "my_height = 58\n",
        "my_lat = 40\n",
        "my_long = 105"
      ],
      "execution_count": null,
      "outputs": []
    },
    {
      "cell_type": "code",
      "metadata": {
        "id": "bufefdio-5N5",
        "colab": {
          "base_uri": "https://localhost:8080/",
          "height": 131
        },
        "outputId": "202aa2af-57c4-41c4-f78d-57c712473bc8"
      },
      "source": [
        "# not pythonic way\n",
        "my height = 58 # wont work\n",
        "MYLONG = 40    # will work still avoid using it\n",
        "MyLat = 105    # will work still avoid using it"
      ],
      "execution_count": null,
      "outputs": [
        {
          "output_type": "error",
          "ename": "SyntaxError",
          "evalue": "ignored",
          "traceback": [
            "\u001b[0;36m  File \u001b[0;32m\"<ipython-input-13-0bc6c130fbea>\"\u001b[0;36m, line \u001b[0;32m2\u001b[0m\n\u001b[0;31m    my height = 58 # wont work\u001b[0m\n\u001b[0m            ^\u001b[0m\n\u001b[0;31mSyntaxError\u001b[0m\u001b[0;31m:\u001b[0m invalid syntax\n"
          ]
        }
      ]
    },
    {
      "cell_type": "markdown",
      "metadata": {
        "id": "0vk0r_8m_dWl"
      },
      "source": [
        "Though the last two of these would work in python, they are not pythonic ways to name variables. The way we name variables is called snake case, because we tend to connect the words with underscores."
      ]
    },
    {
      "cell_type": "markdown",
      "metadata": {
        "id": "DAoihPxbFI_d"
      },
      "source": [
        "\n",
        "\n",
        "What if we want to change or update the value of a variable for example take the example of rent = 1700, suppose the rent has hiked and the new rent is 2000 we can just assign the variable its new value as:"
      ]
    },
    {
      "cell_type": "code",
      "metadata": {
        "id": "81F5psRj_kUP",
        "colab": {
          "base_uri": "https://localhost:8080/"
        },
        "outputId": "c34b04c7-00b7-470e-94d7-5a8209f69ae4"
      },
      "source": [
        "rent = 1700\n",
        "rent = 2000\n",
        "print(rent)"
      ],
      "execution_count": null,
      "outputs": [
        {
          "output_type": "stream",
          "text": [
            "2000\n"
          ],
          "name": "stdout"
        }
      ]
    },
    {
      "cell_type": "markdown",
      "metadata": {
        "id": "MavVAvfNGFOi"
      },
      "source": [
        "This is called overwriting the variable , i.e, When a new value is assigned to a variable, the old one is forgotten.\n",
        "\n",
        "If we had then caused some damages to the property during our crazy house party and we have to pay for them then we can just apply these changes directly to this variable."
      ]
    },
    {
      "cell_type": "code",
      "metadata": {
        "id": "rkEh72gQFaK2",
        "colab": {
          "base_uri": "https://localhost:8080/"
        },
        "outputId": "48421189-45a8-4a92-a7be-725d17ad79c4"
      },
      "source": [
        "rent = 1700\n",
        "rent = 2000\n",
        "rent =rent + 700\n",
        "print(rent)"
      ],
      "execution_count": null,
      "outputs": [
        {
          "output_type": "stream",
          "text": [
            "2700\n"
          ],
          "name": "stdout"
        }
      ]
    },
    {
      "cell_type": "markdown",
      "metadata": {
        "id": "vqwJs-3bHU7S"
      },
      "source": [
        "in the line 3 the variable *rent* is being assigned to itself plus 700 which results to 2700. \n",
        "\n",
        "Because such increment and assignment operations are very common python has a very special assignment operator for this. "
      ]
    },
    {
      "cell_type": "code",
      "metadata": {
        "id": "gUkRhTKnH9mv",
        "colab": {
          "base_uri": "https://localhost:8080/"
        },
        "outputId": "591598a6-eafc-4970-8623-d66db6a568a0"
      },
      "source": [
        "rent = 1700\n",
        "rent = 2000\n",
        "rent += 700\n",
        "print(rent)"
      ],
      "execution_count": null,
      "outputs": [
        {
          "output_type": "stream",
          "text": [
            "2700\n"
          ],
          "name": "stdout"
        }
      ]
    },
    {
      "cell_type": "markdown",
      "metadata": {
        "id": "6N1_qkohIEb2"
      },
      "source": [
        "we can actually use this **+=** operator to tell python that we are incrementing the value on the left by the value on the right. **+=** is a example of assignment operator **-= *= /=** are some more examples of assignment operators. All of these operators just apply arithmetic operation to the variable on the left with the value on the right which makes your code more concise and easier to read and understand."
      ]
    },
    {
      "cell_type": "markdown",
      "metadata": {
        "id": "G3q5YcesJ8MV"
      },
      "source": [
        "<br><br>\n",
        "\n",
        "## **7. Integers and Floats:**\n",
        "So far the numbers that we have dealt with were mostly whole numbers or integers, but as you may have notices that other types of numbers also do exist. For example dividing one integer by another gives us a number that isn't an integer, in python we represent such a number as a float, which is short for floating point number. "
      ]
    },
    {
      "cell_type": "code",
      "metadata": {
        "id": "fqai63lgI8v8",
        "colab": {
          "base_uri": "https://localhost:8080/"
        },
        "outputId": "08fc8fe9-ecfa-448d-e236-67a194dbebe2"
      },
      "source": [
        "print(3/2)"
      ],
      "execution_count": null,
      "outputs": [
        {
          "output_type": "stream",
          "text": [
            "1.5\n"
          ],
          "name": "stdout"
        }
      ]
    },
    {
      "cell_type": "markdown",
      "metadata": {
        "id": "25ijafCzMh4j"
      },
      "source": [
        "Numbers with a decimal point, such as 3.14, are called floating-point numbers (or floats). Note that even though the value 42 is an integer, the value 42.0 would be a floating-point number. And if 2 integers are divided then also we get float as an answer.\n",
        "\n",
        "You can check the datatype of any value by using the builtin function of type, that returns the type of an object. Here as you can see they type of a number without a decimal and the type of a number with a decimal."
      ]
    },
    {
      "cell_type": "code",
      "metadata": {
        "id": "L6ZPHtSyKogM",
        "colab": {
          "base_uri": "https://localhost:8080/"
        },
        "outputId": "e019f60e-0036-4a35-d3d6-36f07cbeb002"
      },
      "source": [
        "a = 3\n",
        "b = 2.5\n",
        "\n",
        "print(type(a))\n",
        "print(type(b))"
      ],
      "execution_count": null,
      "outputs": [
        {
          "output_type": "stream",
          "text": [
            "<class 'int'>\n",
            "<class 'float'>\n"
          ],
          "name": "stdout"
        }
      ]
    },
    {
      "cell_type": "markdown",
      "metadata": {
        "id": "4zrtRdZtDnj6"
      },
      "source": [
        "An operation involving an int and a float will always give float as its output. We can also covert one datatype to another by constructing new objects of those types with int and float. \n",
        "\n",
        "When we convert a float to an int the part after the decimal point is dropped and hence there is no rounding. eg 28.9 will be cut to 28. \n",
        "\n",
        "Similarly converting int to float just adds a decimal at the end of the number and a 0 after that. example 3 will become 3.0"
      ]
    },
    {
      "cell_type": "code",
      "metadata": {
        "id": "_17RKbnXMvSZ",
        "colab": {
          "base_uri": "https://localhost:8080/"
        },
        "outputId": "d0961115-d77b-4f7b-d96d-9db052bd2ae7"
      },
      "source": [
        "a = float(3)\n",
        "b = int(28.9)\n",
        "print(a)\n",
        "print(b)"
      ],
      "execution_count": null,
      "outputs": [
        {
          "output_type": "stream",
          "text": [
            "3.0\n",
            "28\n"
          ],
          "name": "stdout"
        }
      ]
    },
    {
      "cell_type": "markdown",
      "metadata": {
        "id": "qlcwxnN0EYgx"
      },
      "source": [
        "\n",
        "\n",
        "> Another point that you need to keep in mind is float are an approximation to the number they represent. As float can represent very large range of numbers python must use approximation to represent these numbers. For example this floating point number 0.23 is in reality slightly more than 0.23. such that if we add up 0.23 to itself a few times and check its equality to the expected resultant it will be different. Although the difference is very small but it exists never the less and you should know about it.\n",
        "\n"
      ]
    },
    {
      "cell_type": "code",
      "metadata": {
        "id": "ecx9e1p8DuVJ",
        "colab": {
          "base_uri": "https://localhost:8080/"
        },
        "outputId": "99073e1c-8120-497e-ac5e-76dbc6c83104"
      },
      "source": [
        "print(0.23 + 0.23 + 0.23 + 0.23 + 0.23 + 0.23\n",
        "       + 0.23 + 0.23 + 0.23 + 0.23 + 0.23 + 0.23\n",
        "       + 0.23 + 0.23 + 0.23 + 0.23 + 0.23 + 0.23\n",
        "       + 0.23 + 0.23 + 0.23 + 0.23 + 0.23 + 0.23\n",
        "       + 0.23 + 0.23 + 0.23 + 0.23+ 0.23 + 0.23 == 6.9)"
      ],
      "execution_count": null,
      "outputs": [
        {
          "output_type": "stream",
          "text": [
            "False\n"
          ],
          "name": "stdout"
        }
      ]
    },
    {
      "cell_type": "markdown",
      "metadata": {
        "id": "cs768gAfFM2S"
      },
      "source": [
        "<br><br>\n",
        "\n",
        "##**9. Boolean Datatype, Comparison and Logical Operators:**\n",
        "\n",
        "Bool is another datatype that is commonly used in Python. Bool is short for Boolean which can have a value of either True or False. Boolean algebra is the branch of algebra in which the values of the variables are the truth values true or false. Boolean algebra us the framework on which all electronic devices and built and exists fundamentally in every line of code inside a computer. In python we can easily assign boolean values like this:\n"
      ]
    },
    {
      "cell_type": "code",
      "metadata": {
        "id": "JW5nXrxsEnin"
      },
      "source": [
        "python_awsome = True\n",
        "doumentation_bad = False"
      ],
      "execution_count": null,
      "outputs": []
    },
    {
      "cell_type": "markdown",
      "metadata": {
        "id": "a-JN4xZlHmzD"
      },
      "source": [
        "We can use comparison operators to compare 2 values and produce boolean results like:"
      ]
    },
    {
      "cell_type": "code",
      "metadata": {
        "id": "mVRNbJecHjgH",
        "colab": {
          "base_uri": "https://localhost:8080/"
        },
        "outputId": "76c598f8-67ff-40c9-c20c-aa4c42875a37"
      },
      "source": [
        "a = 3 > 1\n",
        "print(a)"
      ],
      "execution_count": null,
      "outputs": [
        {
          "output_type": "stream",
          "text": [
            "True\n"
          ],
          "name": "stdout"
        }
      ]
    },
    {
      "cell_type": "markdown",
      "metadata": {
        "id": "QK7KL0o3Jqo3"
      },
      "source": [
        "Here 3 is greater than 1 so printing out the output gives us a boolean value to true. There are many comparison operators in python, as you can see here are all of them.\n",
        "\n",
        "As you will see the function of all these comparison operators are evident from their names itself these are **less than,  greater than , less than or equal to, greater than or equal to, not equal to**.\n",
        "\n",
        "Working with boolean has its own set of operators called as logical operators. These operators very useful when working with boolean, and evaluates if both the sides are true, **OR** evaluates if atleast one side is true and **not** evaluates the inverse of the input boolean.\n",
        "\n",
        "Lets understand if via an example:"
      ]
    },
    {
      "cell_type": "code",
      "metadata": {
        "id": "eN24eeGyHl6k",
        "colab": {
          "base_uri": "https://localhost:8080/"
        },
        "outputId": "1540a910-db53-480f-f6cb-e978e10e555d"
      },
      "source": [
        "rent = 1200\n",
        "is_affordable = rent > 1000 and rent < 2000\n",
        "\n",
        "print(is_affordable)"
      ],
      "execution_count": null,
      "outputs": [
        {
          "output_type": "stream",
          "text": [
            "True\n"
          ],
          "name": "stdout"
        }
      ]
    },
    {
      "cell_type": "markdown",
      "metadata": {
        "id": "XgntpdwgLpzT"
      },
      "source": [
        "Here we check if the *rent* of a house is affordable or not, here in the second line we evaluate both the sides ie *rent > 1000*, yes, so it is **true** while the second condition is *rent < 200*, that too is **true**. as both the condition on the left and right side of and is **true** hence the boolean value of **true** will be assigned to the *is_affordable variable*. In other words if the *rent* is greater than 1000 and less than 2000 then only it is affordable.\n",
        "\n",
        "And here you can see how not works:"
      ]
    },
    {
      "cell_type": "code",
      "metadata": {
        "id": "8c9_zsNvKR0v",
        "colab": {
          "base_uri": "https://localhost:8080/"
        },
        "outputId": "8098d175-7470-43f6-ce8f-6b5282ffca37"
      },
      "source": [
        "rent = 1200\n",
        "is_affordable = not(rent > 1000 and rent < 2000) #\"not\" just inverts bool value\n",
        "\n",
        "print(is_affordable)"
      ],
      "execution_count": null,
      "outputs": [
        {
          "output_type": "stream",
          "text": [
            "False\n"
          ],
          "name": "stdout"
        }
      ]
    },
    {
      "cell_type": "markdown",
      "metadata": {
        "id": "oeq2QDdEMSK8"
      },
      "source": [
        "<br><br>\n",
        "\n",
        "## **10. Strings:**\n",
        "\n",
        "Python has another datatype in its toolkit called as Strings, as the name suggest this datatype deals with characters words and text. String is a immutable order of sequences of characters (eg, Letters, numbers, spaces and symbols. We will be explaining what does immutable order means later on.\n",
        "\n",
        "You can create a string by using quotes as seen here, you can use either single / double quotes they both work equally well but there are some cases where you might prefer one over the other which we will be discussing below."
      ]
    },
    {
      "cell_type": "code",
      "metadata": {
        "id": "Q84mRQ2_MFGW",
        "colab": {
          "base_uri": "https://localhost:8080/"
        },
        "outputId": "999150f0-06a4-4d17-cc1f-709ac2ffeb1e"
      },
      "source": [
        "# using Double Quotes\n",
        "print(\"ShapeAI\")\n",
        "# using Single Quotes\n",
        "print('ShapeAI')"
      ],
      "execution_count": null,
      "outputs": [
        {
          "output_type": "stream",
          "text": [
            "ShapeAI\n",
            "ShapeAI\n"
          ],
          "name": "stdout"
        }
      ]
    },
    {
      "cell_type": "markdown",
      "metadata": {
        "id": "odFoazduN4rR"
      },
      "source": [
        "In this example we printed the word *ShapeAI* using single and double quotes and got the same output *ShapeAI*.\n",
        "\n",
        "We can also assign a string to a variable just like float and int."
      ]
    },
    {
      "cell_type": "code",
      "metadata": {
        "id": "Krfhjf9NN0-D",
        "colab": {
          "base_uri": "https://localhost:8080/"
        },
        "outputId": "818d5277-65c1-485d-b84e-771de7730867"
      },
      "source": [
        "motto = \"Learn | Code | Compete | Intern\" \n",
        "print(motto)"
      ],
      "execution_count": null,
      "outputs": [
        {
          "output_type": "stream",
          "text": [
            "Learn | Code | Compete | Intern\n"
          ],
          "name": "stdout"
        }
      ]
    },
    {
      "cell_type": "markdown",
      "metadata": {
        "id": "YHgDcRm6R0FI"
      },
      "source": [
        "Strings in Python are shown as the variable type str."
      ]
    },
    {
      "cell_type": "code",
      "metadata": {
        "id": "YkyDHgq3RW6K",
        "colab": {
          "base_uri": "https://localhost:8080/"
        },
        "outputId": "377af5a6-e799-46b8-adb7-2ccbc597db46"
      },
      "source": [
        "type(motto)"
      ],
      "execution_count": null,
      "outputs": [
        {
          "output_type": "execute_result",
          "data": {
            "text/plain": [
              "str"
            ]
          },
          "metadata": {
            "tags": []
          },
          "execution_count": 27
        }
      ]
    },
    {
      "cell_type": "markdown",
      "metadata": {
        "id": "SjqlkfgzR-gR"
      },
      "source": [
        "> *String can contain any character number symbol space within the quotes.\n",
        "However if we want to have quotes inside the string we get an error.*"
      ]
    },
    {
      "cell_type": "code",
      "metadata": {
        "id": "788JWDKUR4BD",
        "colab": {
          "base_uri": "https://localhost:8080/",
          "height": 131
        },
        "outputId": "99dc3453-e104-4287-83bc-e9a8326c4fbd"
      },
      "source": [
        "dialogue = \"shiva said, \"you learn as you grow\"\"       # correction is mentioned below"
      ],
      "execution_count": null,
      "outputs": [
        {
          "output_type": "error",
          "ename": "SyntaxError",
          "evalue": "ignored",
          "traceback": [
            "\u001b[0;36m  File \u001b[0;32m\"<ipython-input-28-75b855c74a80>\"\u001b[0;36m, line \u001b[0;32m1\u001b[0m\n\u001b[0;31m    dialogue = \"shiva said, \"you learn as you grow\"\"       # correction is mentioned below\u001b[0m\n\u001b[0m                               ^\u001b[0m\n\u001b[0;31mSyntaxError\u001b[0m\u001b[0;31m:\u001b[0m invalid syntax\n"
          ]
        }
      ]
    },
    {
      "cell_type": "markdown",
      "metadata": {
        "id": "WjG9dsH5SOFT"
      },
      "source": [
        "Python provides 2 easy ways to handle such problem:\n",
        "\n",
        "1. Place the string in single quotes rather than double quotes. This will solve your problem for having double quotes within the string. But sometimes you will want to have both double and single quotes in your string in that case this will prove to be a problem."
      ]
    },
    {
      "cell_type": "code",
      "metadata": {
        "id": "_lPyEIYmSIes",
        "colab": {
          "base_uri": "https://localhost:8080/"
        },
        "outputId": "f1fb1d05-3b35-41cf-8cde-e3e68c3341eb"
      },
      "source": [
        "dialogue = 'shiva said, \"you learn as you grow\"'\n",
        "print(dialogue)"
      ],
      "execution_count": null,
      "outputs": [
        {
          "output_type": "stream",
          "text": [
            "shiva said, \"you learn as you grow\"\n"
          ],
          "name": "stdout"
        }
      ]
    },
    {
      "cell_type": "markdown",
      "metadata": {
        "id": "EMqd6v3xSMno"
      },
      "source": [
        "2. In that case we can use a backslash to skip quotes as you can see in this example. The backslash helps python to know that the the single quote should be interpreted as part of the string rather than the quote that ends the string."
      ]
    },
    {
      "cell_type": "code",
      "metadata": {
        "id": "otSfYmAoS2TM",
        "colab": {
          "base_uri": "https://localhost:8080/"
        },
        "outputId": "e0519aa5-8059-46fb-85c0-9911dcaa2d6a"
      },
      "source": [
        "dialogue = '\"shiva you\\'re bag is red\"'\n",
        "print(dialogue)"
      ],
      "execution_count": null,
      "outputs": [
        {
          "output_type": "stream",
          "text": [
            "\"shiva you're bag is red\"\n"
          ],
          "name": "stdout"
        }
      ]
    },
    {
      "cell_type": "markdown",
      "metadata": {
        "id": "RA3hh1VhTFUF"
      },
      "source": [
        "There are a few operators that we use on floats and ints that can also be used on strings. For example we can use the **'+'** to combine / concatenate 2 strings together and we can use **'*'** to repeat the string let us look at an example for each."
      ]
    },
    {
      "cell_type": "code",
      "metadata": {
        "id": "bIBYEJ6uS7ko",
        "colab": {
          "base_uri": "https://localhost:8080/"
        },
        "outputId": "307dd175-95bc-4667-9fbc-72b667306e3d"
      },
      "source": [
        "print(\"hello\" + \"world\")\n",
        "\n",
        "print(\"hello\" + \" \" + \"world\")"
      ],
      "execution_count": null,
      "outputs": [
        {
          "output_type": "stream",
          "text": [
            "helloworld\n",
            "hello world\n"
          ],
          "name": "stdout"
        }
      ]
    },
    {
      "cell_type": "markdown",
      "metadata": {
        "id": "iurj3HxXTkx2"
      },
      "source": [
        "> *here in this example we can see that using the plus arithmetic operator we get *helloworld* written together but this word that is printed out has no meaning, we need to have a space between both the words to have a meaning. We can add another string containing just a space in between the words to do so.*"
      ]
    },
    {
      "cell_type": "code",
      "metadata": {
        "id": "jYVDqes0TeCz",
        "colab": {
          "base_uri": "https://localhost:8080/"
        },
        "outputId": "c7a7a096-70f3-458e-b12c-b34b5c674e5e"
      },
      "source": [
        "word = \"hello\"\n",
        "print(word * 5)"
      ],
      "execution_count": null,
      "outputs": [
        {
          "output_type": "stream",
          "text": [
            "hellohellohellohellohello\n"
          ],
          "name": "stdout"
        }
      ]
    },
    {
      "cell_type": "markdown",
      "metadata": {
        "id": "78vTvfYSTwap"
      },
      "source": [
        "Now in the second example we can see that using the multiplication operator on a string we get repetition of the same word as many time as the number we multiplied the string by in the output."
      ]
    },
    {
      "cell_type": "markdown",
      "metadata": {
        "id": "fIFnUmZcT3_I"
      },
      "source": [
        "However unlike multiplication and addition operators the other arithmetic operators like division and subtraction cannot be used on strings any attempt to do so would result in an error that string is an unsupported datatype for the division/subtraction operator."
      ]
    },
    {
      "cell_type": "code",
      "metadata": {
        "id": "h2nM7OBxT3he",
        "colab": {
          "base_uri": "https://localhost:8080/",
          "height": 201
        },
        "outputId": "af0e3cef-0f4c-4807-b499-3f49e268a904"
      },
      "source": [
        "word_1 = \"hello\"\n",
        "word_2 = \"world\"\n",
        "print(word_1 / word_2)         # reason is mentioned above, for correction, remove '/', in place of slash put '+' sign"
      ],
      "execution_count": null,
      "outputs": [
        {
          "output_type": "error",
          "ename": "TypeError",
          "evalue": "ignored",
          "traceback": [
            "\u001b[0;31m---------------------------------------------------------------------------\u001b[0m",
            "\u001b[0;31mTypeError\u001b[0m                                 Traceback (most recent call last)",
            "\u001b[0;32m<ipython-input-33-19f853c4b10a>\u001b[0m in \u001b[0;36m<module>\u001b[0;34m()\u001b[0m\n\u001b[1;32m      1\u001b[0m \u001b[0mword_1\u001b[0m \u001b[0;34m=\u001b[0m \u001b[0;34m\"hello\"\u001b[0m\u001b[0;34m\u001b[0m\u001b[0;34m\u001b[0m\u001b[0m\n\u001b[1;32m      2\u001b[0m \u001b[0mword_2\u001b[0m \u001b[0;34m=\u001b[0m \u001b[0;34m\"world\"\u001b[0m\u001b[0;34m\u001b[0m\u001b[0;34m\u001b[0m\u001b[0m\n\u001b[0;32m----> 3\u001b[0;31m \u001b[0mprint\u001b[0m\u001b[0;34m(\u001b[0m\u001b[0mword_1\u001b[0m \u001b[0;34m/\u001b[0m \u001b[0mword_2\u001b[0m\u001b[0;34m)\u001b[0m         \u001b[0;31m# reason is mentioned above, for correction, remove '/', in place of slash put '+' sign\u001b[0m\u001b[0;34m\u001b[0m\u001b[0;34m\u001b[0m\u001b[0m\n\u001b[0m",
            "\u001b[0;31mTypeError\u001b[0m: unsupported operand type(s) for /: 'str' and 'str'"
          ]
        }
      ]
    },
    {
      "cell_type": "markdown",
      "metadata": {
        "id": "9gumg_-mUBfA"
      },
      "source": [
        "A useful builtin function for string datatypes is *len()* which stands for length. As the name suggests (it returns the length of an object ie., it returns the no of characters in a string.\n",
        "\n",
        "It takes in values in a parenthesis and returns the length of the string. *len()* is a little different from *print()* as the value returned from length can be stored in a variable as seen in the example here. The *len()* function outputs a value 7 that is then stored in a variable called as *word_length* which is then printed out."
      ]
    },
    {
      "cell_type": "code",
      "metadata": {
        "id": "oQNIXXfNTtzl",
        "colab": {
          "base_uri": "https://localhost:8080/"
        },
        "outputId": "c1dd310a-2e4b-4a5a-a539-8248296aa09b"
      },
      "source": [
        "word_length = len(\"ShapeAI\")\n",
        "print(word_length)"
      ],
      "execution_count": null,
      "outputs": [
        {
          "output_type": "stream",
          "text": [
            "7\n"
          ],
          "name": "stdout"
        }
      ]
    },
    {
      "cell_type": "markdown",
      "metadata": {
        "id": "EEfczWGFzu6Y"
      },
      "source": [
        "### **Question:**\n",
        "\n",
        "The line of code in the following code block will cause a *SyntaxError*, thanks to the misuse of quotation marks. First run it with Test Run to view the error message. Then resolve the problem so that the quote (from Mahatama Gandhi) is correctly assigned to the variable *gandhi_quote*."
      ]
    },
    {
      "cell_type": "code",
      "metadata": {
        "id": "MnmykPZy0F-w"
      },
      "source": [
        "# TODO: Fix this string!\n",
        "gandhi_quote = 'If you don\\'t ask, you don\\'t get it'     # Fixed one"
      ],
      "execution_count": null,
      "outputs": []
    },
    {
      "cell_type": "markdown",
      "metadata": {
        "id": "GDbOH8th0g7c"
      },
      "source": [
        "### **Question:**\n",
        "\n",
        "In this question you have to print the accuracy logs of a model in training."
      ]
    },
    {
      "cell_type": "code",
      "metadata": {
        "id": "tlAI_jTK0ywg",
        "colab": {
          "base_uri": "https://localhost:8080/"
        },
        "outputId": "7b41080b-aa04-43fe-dd8c-55f46a8e9c5d"
      },
      "source": [
        "model = \"VGG16\"\n",
        "iteration = \"150\"\n",
        "accuracy = \"67.98\"\n",
        "\n",
        "# TODO: print a log message using the variables above\n",
        "# This message should have the same format as this one:\n",
        "# \"the accuracy of ResNET50 model in 100th iteration is: 42.16%\"\n",
        "\n",
        "print(\"the accuracy of\"+\" \"+model+\" \"+\"model in\"+\" \"+iteration+\"th\"+\" \"+\"iteration is:\"+\" \"+accuracy+\"%\")"
      ],
      "execution_count": null,
      "outputs": [
        {
          "output_type": "stream",
          "text": [
            "the accuracy of VGG16 model in 150th iteration is: 67.98%\n"
          ],
          "name": "stdout"
        }
      ]
    },
    {
      "cell_type": "markdown",
      "metadata": {
        "id": "WiPTD1y81uXZ"
      },
      "source": [
        "### **Question:**\n",
        "\n",
        "Use string concatination and *len()* function to fing the length of a persons complete name and store it in the variable *name_length*.\n",
        "\n",
        "As a business card designer find if the name can fit into a business card. "
      ]
    },
    {
      "cell_type": "code",
      "metadata": {
        "id": "9Hzh7_vB1tpb",
        "colab": {
          "base_uri": "https://localhost:8080/"
        },
        "outputId": "bfec9759-a4a7-476a-a9f1-6a472a620073"
      },
      "source": [
        "given_name = \"Rahul\"\n",
        "middle_names = \"Shastri\"\n",
        "family_name = \"Mishra\"\n",
        "# solved\n",
        "name_length = len(given_name + middle_names + family_name) #todo: calculate how long this name is\n",
        "\n",
        "# Now we check to make sure that the name fits within the driving license character limit\n",
        "# Nothing you need to do here\n",
        "driving_license_character_limit = 28\n",
        "print(name_length <= driving_license_character_limit)"
      ],
      "execution_count": null,
      "outputs": [
        {
          "output_type": "stream",
          "text": [
            "True\n"
          ],
          "name": "stdout"
        }
      ]
    },
    {
      "cell_type": "markdown",
      "metadata": {
        "id": "Juq_M-ENy6-_"
      },
      "source": [
        "<br><br>\n",
        "\n",
        "## **11. Type and Type Conversion Revision:**\n",
        "\n",
        "Till now we have covered 4 different datatypes int, float, bool and string. As you can recall from the previous classes python has a builtin function called as type that returns the type of an object."
      ]
    },
    {
      "cell_type": "code",
      "metadata": {
        "id": "wsr3y0KgyuWW",
        "colab": {
          "base_uri": "https://localhost:8080/"
        },
        "outputId": "49647bdd-72bd-4c87-df11-d5ce6a22846b"
      },
      "source": [
        "print(type(75))\n",
        "print(type(75.0))\n",
        "print(type(\"75\"))\n",
        "print(type(True))"
      ],
      "execution_count": null,
      "outputs": [
        {
          "output_type": "stream",
          "text": [
            "<class 'int'>\n",
            "<class 'float'>\n",
            "<class 'str'>\n",
            "<class 'bool'>\n"
          ],
          "name": "stdout"
        }
      ]
    },
    {
      "cell_type": "markdown",
      "metadata": {
        "id": "iGgkIXg5zgwN"
      },
      "source": [
        "Look at the code example we can see that even though the first 3 values appear to be same they can be encoded into different datatypes each with their own set of functions operations and uses.\n",
        "\n",
        "This is to note that here we have called the function print on another function type to output the return value of the function type. In such a case always the function inside the parenthesis is  run first ie. here it will be type.\n",
        "\n",
        "Different types have different properties with their own set of functions operations and uses and hence while choosing a variable you need to choose the correct set of datatype for it depending upon how you care going to use it this is very important.\n",
        "\n",
        "There might be sometimes when you don't have the control over the type of the data being provided to you like one that has been received from a user as in input. But the good news is that python allows you to create new objects from old and change the datatypes for these new objects. As we had previously seen in the integers and floats video."
      ]
    },
    {
      "cell_type": "markdown",
      "metadata": {
        "id": "bBZGIBLe6kKT"
      },
      "source": [
        "> For example here we created a float ie 3.0 from an int 3 and assigned it to a new variable called decimal"
      ]
    },
    {
      "cell_type": "code",
      "metadata": {
        "id": "yUceqN1QzIJ0",
        "colab": {
          "base_uri": "https://localhost:8080/"
        },
        "outputId": "3d7bb46e-21d8-4393-a035-a0562f9b6bd2"
      },
      "source": [
        "decimal = float(3)\n",
        "print(decimal)\n",
        "print(type(decimal))"
      ],
      "execution_count": null,
      "outputs": [
        {
          "output_type": "stream",
          "text": [
            "3.0\n",
            "<class 'float'>\n"
          ],
          "name": "stdout"
        }
      ]
    },
    {
      "cell_type": "markdown",
      "metadata": {
        "id": "OHQFOeZi6o6c"
      },
      "source": [
        "> In this next example we created a string from the integer variable *marks* and used that to create a larger string."
      ]
    },
    {
      "cell_type": "code",
      "metadata": {
        "id": "xZwhCiLZ6jky",
        "colab": {
          "base_uri": "https://localhost:8080/"
        },
        "outputId": "ffc1ff5b-c2da-4261-9bf5-5193cb90948f"
      },
      "source": [
        "marks = 15\n",
        "subject = \"coding\"\n",
        "semester = \"first\"\n",
        "\n",
        "result = \"I scored \" + str(marks) + \" in \" + subject + \" during my \" + semester + \" semester.\"\n",
        "print(result)"
      ],
      "execution_count": null,
      "outputs": [
        {
          "output_type": "stream",
          "text": [
            "I scored 15 in coding during my first semester.\n"
          ],
          "name": "stdout"
        }
      ]
    },
    {
      "cell_type": "markdown",
      "metadata": {
        "id": "IqgSdyf067yQ"
      },
      "source": [
        "> we can also create an float from string"
      ]
    },
    {
      "cell_type": "code",
      "metadata": {
        "id": "Kqsda09k6d4x",
        "colab": {
          "base_uri": "https://localhost:8080/"
        },
        "outputId": "81f22236-8d37-4ad7-ec6c-969d2fe539f2"
      },
      "source": [
        "marks = \"15\"\n",
        "print(type(marks))\n",
        "\n",
        "marks = float(marks)\n",
        "print(type(marks))"
      ],
      "execution_count": null,
      "outputs": [
        {
          "output_type": "stream",
          "text": [
            "<class 'str'>\n",
            "<class 'float'>\n"
          ],
          "name": "stdout"
        }
      ]
    },
    {
      "cell_type": "markdown",
      "metadata": {
        "id": "pzFSq-6W7oZi"
      },
      "source": [
        "### **Question:**\n",
        "\n",
        "In this quiz, you’ll need to change the types of the input and output data in order to get the result you want.\n",
        "\n",
        "Calculate and print the total sales for the week from the data provided. Print out a string of the form \"This week's total sales: xxx\", where xxx will be the actual total of all the numbers. You’ll need to change the type of the input data in order to calculate that total."
      ]
    },
    {
      "cell_type": "code",
      "metadata": {
        "id": "hu24eSfU7Q3F",
        "colab": {
          "base_uri": "https://localhost:8080/"
        },
        "outputId": "95cc92c3-eec7-436b-8f97-fdb774df7745"
      },
      "source": [
        "mon_sales = \"121\"\n",
        "tues_sales = \"105\"\n",
        "wed_sales = \"110\"\n",
        "thurs_sales = \"98\"\n",
        "fri_sales = \"95\"\n",
        "\n",
        "#TODO: Print a string with this format: This week's total sales: xxx\n",
        "# You will probably need to write some lines of code before the print statement.\n",
        "total_sales = (float(mon_sales) + float(tues_sales) + float(wed_sales) \n",
        "                + float(thurs_sales) + float(fri_sales))\n",
        "print(\"This week\\'s total sales: \" + str(total_sales))"
      ],
      "execution_count": null,
      "outputs": [
        {
          "output_type": "stream",
          "text": [
            "This week's total sales: 529.0\n"
          ],
          "name": "stdout"
        }
      ]
    },
    {
      "cell_type": "markdown",
      "metadata": {
        "id": "4M_Qt7mSWGuD"
      },
      "source": [
        "### **12.a. One important string method: format()**\n",
        "\n",
        "We will be using the *format()* string method a good bit in our future work in Python, and you will find it very valuable in your coding, especially with your print statements.\n",
        "\n",
        "We can best illustrate how to use *format()* by looking at some examples:"
      ]
    },
    {
      "cell_type": "code",
      "metadata": {
        "id": "utXx78crUTO0",
        "colab": {
          "base_uri": "https://localhost:8080/"
        },
        "outputId": "6712cad9-9978-4dc2-d547-4e85bfa56889"
      },
      "source": [
        "# Example 1\n",
        "print(\"EG:1\")\n",
        "print(\"Mohammed has {} balloons\".format(27))\n",
        "\n",
        "# Example 2\n",
        "print(\"EG:2\")\n",
        "animal = \"dog\"\n",
        "action = \"bite\"\n",
        "print(\"Does your {} {}?\".format(animal, action))\n",
        "\n",
        "# Example 3\n",
        "print(\"EG:3\")\n",
        "maria_string = \"Maria loves {} and {}\"\n",
        "print(maria_string.format(\"math\",\"statistics\"))"
      ],
      "execution_count": null,
      "outputs": [
        {
          "output_type": "stream",
          "text": [
            "EG:1\n",
            "Mohammed has 27 balloons\n",
            "EG:2\n",
            "Does your dog bite?\n",
            "EG:3\n",
            "Maria loves math and statistics\n"
          ],
          "name": "stdout"
        }
      ]
    },
    {
      "cell_type": "markdown",
      "metadata": {
        "id": "G9ybjouxWyQe"
      },
      "source": [
        "Notice how in each example, the number of pairs of curly braces {} you use inside the string is the same as the number of replacements you want to make using the values inside *format()*.\n",
        "\n",
        "More advanced students can learn more about the formal syntax for using the *format()* string method [here](https://docs.python.org/3.6/library/string.html#format-string-syntax)."
      ]
    },
    {
      "cell_type": "markdown",
      "metadata": {
        "id": "PqKTCtYOTMQ8"
      },
      "source": [
        "<br><br>\n",
        "\n",
        "## **13. Lists and Membership Operators:**\n",
        "\n",
        "**Data structures** are containers that organize and group data types together in different ways. A **list** is one of the most common and basic data structures in Python. It is a mutable ordered sequence of elements.\n",
        "\n",
        "The code below defines a variable *students* which contains a list of strings. Each element in the list is a string that signifies the name of a student.\n",
        "\n",
        "> The data inside a list can be a mixture of any number and combination of diffrent data types."
      ]
    },
    {
      "cell_type": "code",
      "metadata": {
        "id": "zRS5zyHbWqaP"
      },
      "source": [
        "students = ['sam', 'pam', 'rocky', 'austin', 'steve', 'banner']"
      ],
      "execution_count": null,
      "outputs": []
    },
    {
      "cell_type": "markdown",
      "metadata": {
        "id": "fl7PSRXXdhrO"
      },
      "source": [
        "List are ordered, we can look up individual elements by their index, we can look elements from a list just like we have done below."
      ]
    },
    {
      "cell_type": "code",
      "metadata": {
        "id": "uERsCZXNeBbY",
        "colab": {
          "base_uri": "https://localhost:8080/"
        },
        "outputId": "8f6c727e-f2c8-4237-bb93-924e864aabcd"
      },
      "source": [
        "print(students[0])\n",
        "print(students[1])\n",
        "print(students[2])"
      ],
      "execution_count": null,
      "outputs": [
        {
          "output_type": "stream",
          "text": [
            "sam\n",
            "pam\n",
            "rocky\n"
          ],
          "name": "stdout"
        }
      ]
    },
    {
      "cell_type": "markdown",
      "metadata": {
        "id": "cGgwxP3_eWir"
      },
      "source": [
        "Notice that the first element in the list is accessed by the index 0, many programming language follow this convection called as zero based indexing.\n",
        "\n",
        "We can also access the elements from the end of the list using negative index as seen in the examples below."
      ]
    },
    {
      "cell_type": "code",
      "metadata": {
        "id": "CiGVaf_beRAC",
        "colab": {
          "base_uri": "https://localhost:8080/"
        },
        "outputId": "79c32aba-e9e5-43ae-a769-66f4604ad237"
      },
      "source": [
        "print(students[-1])\n",
        "print(students[-2])\n",
        "print(students[-3])"
      ],
      "execution_count": null,
      "outputs": [
        {
          "output_type": "stream",
          "text": [
            "banner\n",
            "steve\n",
            "austin\n"
          ],
          "name": "stdout"
        }
      ]
    },
    {
      "cell_type": "markdown",
      "metadata": {
        "id": "KqJU4qOYgE6A"
      },
      "source": [
        "If you try to access an index in a list that doesn't exist then you will get an Error as seen below."
      ]
    },
    {
      "cell_type": "code",
      "metadata": {
        "id": "C5DSaY0Wf2wT",
        "colab": {
          "base_uri": "https://localhost:8080/",
          "height": 166
        },
        "outputId": "dd5c718f-2f02-4561-ae9f-046d0c41d48e"
      },
      "source": [
        "print(students[20])       # out of range [array]"
      ],
      "execution_count": null,
      "outputs": [
        {
          "output_type": "error",
          "ename": "IndexError",
          "evalue": "ignored",
          "traceback": [
            "\u001b[0;31m---------------------------------------------------------------------------\u001b[0m",
            "\u001b[0;31mIndexError\u001b[0m                                Traceback (most recent call last)",
            "\u001b[0;32m<ipython-input-47-83fc5f7cb36c>\u001b[0m in \u001b[0;36m<module>\u001b[0;34m()\u001b[0m\n\u001b[0;32m----> 1\u001b[0;31m \u001b[0mprint\u001b[0m\u001b[0;34m(\u001b[0m\u001b[0mstudents\u001b[0m\u001b[0;34m[\u001b[0m\u001b[0;36m20\u001b[0m\u001b[0;34m]\u001b[0m\u001b[0;34m)\u001b[0m\u001b[0;34m\u001b[0m\u001b[0;34m\u001b[0m\u001b[0m\n\u001b[0m",
            "\u001b[0;31mIndexError\u001b[0m: list index out of range"
          ]
        }
      ]
    },
    {
      "cell_type": "markdown",
      "metadata": {
        "id": "nKJIgDrZh0Cn"
      },
      "source": [
        "### **Question:**\n",
        "\n",
        "Try to use *len()* to pull the last element from the above list"
      ]
    },
    {
      "cell_type": "code",
      "metadata": {
        "id": "NOiBUWAwgV87",
        "colab": {
          "base_uri": "https://localhost:8080/",
          "height": 35
        },
        "outputId": "560162ab-dfe2-4e62-9fc3-8b0368f4fd55"
      },
      "source": [
        "# TODO: write your code here\n",
        "students[len(students)-1]"
      ],
      "execution_count": null,
      "outputs": [
        {
          "output_type": "execute_result",
          "data": {
            "application/vnd.google.colaboratory.intrinsic+json": {
              "type": "string"
            },
            "text/plain": [
              "'banner'"
            ]
          },
          "metadata": {
            "tags": []
          },
          "execution_count": 48
        }
      ]
    },
    {
      "cell_type": "markdown",
      "metadata": {
        "id": "WZU02jRcFFPN"
      },
      "source": [
        "## **13.a. Membership Operators:[Lists]**\n",
        "\n",
        "In addition to accessing individual elements froma a list, we can use pythons sliceing notation to access a subsequence of a list.\n",
        "\n",
        "Slicing means using indicies to slice off parts of an object like list/string. Look at an example "
      ]
    },
    {
      "cell_type": "code",
      "metadata": {
        "id": "dLyKcmXNiLwU",
        "colab": {
          "base_uri": "https://localhost:8080/"
        },
        "outputId": "a96f0fa2-0743-4c48-c4b3-04d6cfe2cc82"
      },
      "source": [
        "students = ['sam', 'pam', 'rocky', 'austin', 'steve', 'banner', 'tony', 'bruce', \n",
        "            'henry', 'clark', 'diana']\n",
        "student = \"Barry\"\n",
        "\n",
        "# slice a particular range\n",
        "marvel = students[4:7]\n",
        "flash = student[1:3]\n",
        "\n",
        "print(marvel)\n",
        "print(flash)"
      ],
      "execution_count": null,
      "outputs": [
        {
          "output_type": "stream",
          "text": [
            "['steve', 'banner', 'tony']\n",
            "ar\n"
          ],
          "name": "stdout"
        }
      ]
    },
    {
      "cell_type": "code",
      "metadata": {
        "id": "hzDrsBVELAsr",
        "colab": {
          "base_uri": "https://localhost:8080/"
        },
        "outputId": "189eb02f-8cd9-4b26-e327-161b619645ec"
      },
      "source": [
        "# slice from the end\n",
        "dc = students[7:]\n",
        "flash = student[1:]\n",
        "\n",
        "print(dc)\n",
        "print(flash)"
      ],
      "execution_count": null,
      "outputs": [
        {
          "output_type": "stream",
          "text": [
            "['bruce', 'henry', 'clark', 'diana']\n",
            "arry\n"
          ],
          "name": "stdout"
        }
      ]
    },
    {
      "cell_type": "code",
      "metadata": {
        "id": "NYSNXq7wLtR9",
        "colab": {
          "base_uri": "https://localhost:8080/"
        },
        "outputId": "f1fb7009-495c-49ba-d309-dc4eba79eb16"
      },
      "source": [
        "# slice from the begining\n",
        "normal = students[:4]\n",
        "flash = student[:3]\n",
        "\n",
        "print(normal)\n",
        "print(flash)"
      ],
      "execution_count": null,
      "outputs": [
        {
          "output_type": "stream",
          "text": [
            "['sam', 'pam', 'rocky', 'austin']\n",
            "Bar\n"
          ],
          "name": "stdout"
        }
      ]
    },
    {
      "cell_type": "code",
      "metadata": {
        "id": "uXeNb-9qNdkL",
        "colab": {
          "base_uri": "https://localhost:8080/"
        },
        "outputId": "8f65829b-7aca-429b-8d3a-43da1e9ac23d"
      },
      "source": [
        "# length of the list and the string\n",
        "print(len(students))\n",
        "print(len(student))"
      ],
      "execution_count": null,
      "outputs": [
        {
          "output_type": "stream",
          "text": [
            "11\n",
            "5\n"
          ],
          "name": "stdout"
        }
      ]
    },
    {
      "cell_type": "markdown",
      "metadata": {
        "id": "FPqHnXKXMLku"
      },
      "source": [
        "Of the types we have seen lists are most familier to strings, both supports the *len()* function, indexing and slicing.\n",
        "\n",
        "> Here above you have seen that the length of a string is the no of characters in the string, while the length of a list is the no of elements in the list.\n",
        "\n",
        "Another thing that they both supports aare membership operators:\n",
        "\n",
        "* **in:** evaluates if an object on the left side is included in the object on the right side.\n",
        "* **not in:** evaluates if object on left side is not included in object on right side."
      ]
    },
    {
      "cell_type": "code",
      "metadata": {
        "id": "3WSj6PZYL3Eg",
        "colab": {
          "base_uri": "https://localhost:8080/"
        },
        "outputId": "5a1d25ef-58aa-418c-dc3b-4483ea1011b4"
      },
      "source": [
        "greeting = \"Hello there\"\n",
        "print('her' in greeting, 'her' not in greeting)"
      ],
      "execution_count": null,
      "outputs": [
        {
          "output_type": "stream",
          "text": [
            "True False\n"
          ],
          "name": "stdout"
        }
      ]
    },
    {
      "cell_type": "code",
      "metadata": {
        "id": "sQIsQ-_PRZQm",
        "colab": {
          "base_uri": "https://localhost:8080/"
        },
        "outputId": "7877292a-23a7-49d0-9f40-201d07288cdf"
      },
      "source": [
        "print('ShapeAI' in students, 'ShapeAI' not in students)"
      ],
      "execution_count": null,
      "outputs": [
        {
          "output_type": "stream",
          "text": [
            "False True\n"
          ],
          "name": "stdout"
        }
      ]
    },
    {
      "cell_type": "markdown",
      "metadata": {
        "id": "ykKZQtwXfWRd"
      },
      "source": [
        "### **13.b. Mutability and Order:**\n",
        "\n",
        "So how are Lists diffrent from Strings, both supporst slicing, indexing, in and not in operators.\n",
        "\n",
        "The most obvious diffrence between them is that string is a sequence of characters while list's elements can be any type of objects string, integers, floats orr bools.\n",
        "\n",
        "A more important diference is that lists can be modified but string can't. Look at the example below to understand more."
      ]
    },
    {
      "cell_type": "code",
      "metadata": {
        "id": "uEYr9AS0Rlxe",
        "colab": {
          "base_uri": "https://localhost:8080/"
        },
        "outputId": "3dd81d63-fb32-46ef-c9de-d1b353e3af4f"
      },
      "source": [
        "students = ['sam', 'pam', 'rocky', 'austin', 'steve', 'banner', 'tony', 'bruce', \n",
        "            'henry', 'clark', 'diana']\n",
        "\n",
        "students[2] = 'ben'\n",
        "print(students)"
      ],
      "execution_count": null,
      "outputs": [
        {
          "output_type": "stream",
          "text": [
            "['sam', 'pam', 'ben', 'austin', 'steve', 'banner', 'tony', 'bruce', 'henry', 'clark', 'diana']\n"
          ],
          "name": "stdout"
        }
      ]
    },
    {
      "cell_type": "code",
      "metadata": {
        "id": "FHuFUelijkOp",
        "colab": {
          "base_uri": "https://localhost:8080/",
          "height": 201
        },
        "outputId": "f7c66f30-649d-45eb-a800-7ac5221429ae"
      },
      "source": [
        "student = \"Barry\"\n",
        "student[1] = \"e\"                 # hence, the difference is placed\n",
        "print(student)"
      ],
      "execution_count": null,
      "outputs": [
        {
          "output_type": "error",
          "ename": "TypeError",
          "evalue": "ignored",
          "traceback": [
            "\u001b[0;31m---------------------------------------------------------------------------\u001b[0m",
            "\u001b[0;31mTypeError\u001b[0m                                 Traceback (most recent call last)",
            "\u001b[0;32m<ipython-input-56-45fd42fac3cd>\u001b[0m in \u001b[0;36m<module>\u001b[0;34m()\u001b[0m\n\u001b[1;32m      1\u001b[0m \u001b[0mstudent\u001b[0m \u001b[0;34m=\u001b[0m \u001b[0;34m\"Barry\"\u001b[0m\u001b[0;34m\u001b[0m\u001b[0;34m\u001b[0m\u001b[0m\n\u001b[0;32m----> 2\u001b[0;31m \u001b[0mstudent\u001b[0m\u001b[0;34m[\u001b[0m\u001b[0;36m1\u001b[0m\u001b[0;34m]\u001b[0m \u001b[0;34m=\u001b[0m \u001b[0;34m\"e\"\u001b[0m\u001b[0;34m\u001b[0m\u001b[0;34m\u001b[0m\u001b[0m\n\u001b[0m\u001b[1;32m      3\u001b[0m \u001b[0mprint\u001b[0m\u001b[0;34m(\u001b[0m\u001b[0mstudent\u001b[0m\u001b[0;34m)\u001b[0m\u001b[0;34m\u001b[0m\u001b[0;34m\u001b[0m\u001b[0m\n",
            "\u001b[0;31mTypeError\u001b[0m: 'str' object does not support item assignment"
          ]
        }
      ]
    },
    {
      "cell_type": "markdown",
      "metadata": {
        "id": "xMiN9z9pkAWm"
      },
      "source": [
        "**Mutability** is about whether or not we can change an object once it has been created. If an object (like a list or string) can be changed (like a list can), then it is called **mutable**. However, if an object cannot be changed without creating a completely new object (like strings), then the object is considered immutable."
      ]
    },
    {
      "cell_type": "markdown",
      "metadata": {
        "id": "xm5EHFuykdpP"
      },
      "source": [
        "**Order** is about whether the position of an element in the object can be used to access the element. **Both strings and lists are ordered.** We can use the order to access parts of a list and string.\n",
        "\n",
        "> However, you will see some data types in the next sections that will be unordered. For each of the upcoming data structures you see, it is useful to understand how you index, are they mutable, and are they ordered. Knowing this about the data structure is really useful!\n",
        "\n",
        "Additionally, you will see how these each have different methods, so why you would use one data structure vs. another is largely dependent on these properties, and what you can easily do with it!"
      ]
    },
    {
      "cell_type": "markdown",
      "metadata": {
        "id": "nQ22-QIIRXsG"
      },
      "source": [
        "Previously when we created a variable that heald an immutable object like string, the value of the immutable object was saved in memory. Like as you can see below"
      ]
    },
    {
      "cell_type": "code",
      "metadata": {
        "id": "-JjIXgKuPjlO",
        "colab": {
          "base_uri": "https://localhost:8080/"
        },
        "outputId": "5dfaea55-9f71-4c3d-fdf1-40a07ed943c6"
      },
      "source": [
        "student = \"pam\"\n",
        "character = student\n",
        "print(character)\n",
        "character = \"peter\"\n",
        "print(character)\n",
        "print(student)"
      ],
      "execution_count": null,
      "outputs": [
        {
          "output_type": "stream",
          "text": [
            "pam\n",
            "peter\n",
            "pam\n"
          ],
          "name": "stdout"
        }
      ]
    },
    {
      "cell_type": "markdown",
      "metadata": {
        "id": "T4SpeeBCZAVB"
      },
      "source": [
        "Lists are diffrent from strings as they are mutable as can be seen from the example below"
      ]
    },
    {
      "cell_type": "code",
      "metadata": {
        "id": "fDu_EQW3j5yw",
        "colab": {
          "base_uri": "https://localhost:8080/"
        },
        "outputId": "e5301ef0-b2b5-4783-b4f7-c2d2682c8f62"
      },
      "source": [
        "students = ['sam', 'pam', 'rocky', 'austin', 'steve', 'banner', 'tony', 'bruce', \n",
        "            'henry', 'clark', 'diana']\n",
        "characters = students\n",
        "print(characters)\n",
        "characters[1]= \"peter\"\n",
        "print(characters)\n",
        "print(students)"
      ],
      "execution_count": null,
      "outputs": [
        {
          "output_type": "stream",
          "text": [
            "['sam', 'pam', 'rocky', 'austin', 'steve', 'banner', 'tony', 'bruce', 'henry', 'clark', 'diana']\n",
            "['sam', 'peter', 'rocky', 'austin', 'steve', 'banner', 'tony', 'bruce', 'henry', 'clark', 'diana']\n",
            "['sam', 'peter', 'rocky', 'austin', 'steve', 'banner', 'tony', 'bruce', 'henry', 'clark', 'diana']\n"
          ],
          "name": "stdout"
        }
      ]
    },
    {
      "cell_type": "markdown",
      "metadata": {
        "id": "VC6ZnlQfZjsF"
      },
      "source": [
        "There are some useful functions for lists that you should get familier with.\n",
        "\n",
        "1. ***len():*** returns how many elements does the list has.\n",
        "2. ***max():*** returns the greatest element of a list.\n",
        "3. ***min():*** returns the smallest element of a list.\n",
        "4. ***sorted():*** returns a copy of the list, in order from smallest to the largest. leaving the orignal list unchanged\n",
        "\n",
        "> max element in a list of integers is the largest integer, while in the case of string is the string that will come last if the list was sorted alphabetically."
      ]
    },
    {
      "cell_type": "code",
      "metadata": {
        "id": "bk55uR0VPzqr",
        "colab": {
          "base_uri": "https://localhost:8080/"
        },
        "outputId": "97e976b3-d38b-4036-9861-bc3855cf5779"
      },
      "source": [
        "students = ['sam', 'pam', 'rocky', 'austin', 'steve', 'banner', 'tony', 'bruce', \n",
        "            'henry', 'clark', 'diana']\n",
        "\n",
        "student = \"barry\"\n",
        "\n",
        "print(max(students))\n",
        "print(max(student))"
      ],
      "execution_count": null,
      "outputs": [
        {
          "output_type": "stream",
          "text": [
            "tony\n",
            "y\n"
          ],
          "name": "stdout"
        }
      ]
    },
    {
      "cell_type": "markdown",
      "metadata": {
        "id": "hL-h6v8Nev9j"
      },
      "source": [
        "> a point to note is that even though you can have a list containing int and string a max function will be undefined upon such a list."
      ]
    },
    {
      "cell_type": "code",
      "metadata": {
        "id": "qofTAIxvccsm",
        "colab": {
          "base_uri": "https://localhost:8080/",
          "height": 166
        },
        "outputId": "7203fdca-8f3e-4ba2-8308-6c0260a212e6"
      },
      "source": [
        "max([2, 'two'])"
      ],
      "execution_count": null,
      "outputs": [
        {
          "output_type": "error",
          "ename": "TypeError",
          "evalue": "ignored",
          "traceback": [
            "\u001b[0;31m---------------------------------------------------------------------------\u001b[0m",
            "\u001b[0;31mTypeError\u001b[0m                                 Traceback (most recent call last)",
            "\u001b[0;32m<ipython-input-60-89bfacf40baf>\u001b[0m in \u001b[0;36m<module>\u001b[0;34m()\u001b[0m\n\u001b[0;32m----> 1\u001b[0;31m \u001b[0mmax\u001b[0m\u001b[0;34m(\u001b[0m\u001b[0;34m[\u001b[0m\u001b[0;36m2\u001b[0m\u001b[0;34m,\u001b[0m \u001b[0;34m'two'\u001b[0m\u001b[0;34m]\u001b[0m\u001b[0;34m)\u001b[0m\u001b[0;34m\u001b[0m\u001b[0;34m\u001b[0m\u001b[0m\n\u001b[0m",
            "\u001b[0;31mTypeError\u001b[0m: '>' not supported between instances of 'str' and 'int'"
          ]
        }
      ]
    },
    {
      "cell_type": "code",
      "metadata": {
        "id": "DmQ7YXTse_Le",
        "colab": {
          "base_uri": "https://localhost:8080/"
        },
        "outputId": "528b5012-c18d-4c05-a07e-e0607108643e"
      },
      "source": [
        "characters = sorted(students)\n",
        "print(characters)"
      ],
      "execution_count": null,
      "outputs": [
        {
          "output_type": "stream",
          "text": [
            "['austin', 'banner', 'bruce', 'clark', 'diana', 'henry', 'pam', 'rocky', 'sam', 'steve', 'tony']\n"
          ],
          "name": "stdout"
        }
      ]
    },
    {
      "cell_type": "markdown",
      "metadata": {
        "id": "SZiwJj5ua7qs"
      },
      "source": [
        "***Join()*** is an other useful function for lists(string lists), Join is a string method that takes a list of strings as an argument, and returns a string consisting of the list elements joined by a separator string. Look at the example below to understand.\n",
        "\n"
      ]
    },
    {
      "cell_type": "code",
      "metadata": {
        "id": "tUxIAmUiZgOv",
        "colab": {
          "base_uri": "https://localhost:8080/"
        },
        "outputId": "8ea271c3-8ba8-4b78-90e5-cf4ee2044ebc"
      },
      "source": [
        "sep_str = \"\\n\".join([\"Jack\", \"O\", \"Lantern\"])\n",
        "print(sep_str)"
      ],
      "execution_count": null,
      "outputs": [
        {
          "output_type": "stream",
          "text": [
            "Jack\n",
            "O\n",
            "Lantern\n"
          ],
          "name": "stdout"
        }
      ]
    },
    {
      "cell_type": "markdown",
      "metadata": {
        "id": "mKrXZopBesma"
      },
      "source": [
        "In this example we use the string **\"\\n\"** as the separator so that there is a newline between each element.\n",
        "We can also use other strings as separators with .join. Here we use a hyphen."
      ]
    },
    {
      "cell_type": "code",
      "metadata": {
        "id": "GPH5EfbYepKQ",
        "colab": {
          "base_uri": "https://localhost:8080/"
        },
        "outputId": "93083974-69b0-4f82-af24-708aef9ccbf2"
      },
      "source": [
        "name = \"-\".join([\"Jack\", \"O\", \"Lantern\"])\n",
        "print(name)"
      ],
      "execution_count": null,
      "outputs": [
        {
          "output_type": "stream",
          "text": [
            "Jack-O-Lantern\n"
          ],
          "name": "stdout"
        }
      ]
    },
    {
      "cell_type": "markdown",
      "metadata": {
        "id": "z4Qml70wfYt5"
      },
      "source": [
        "> It is important to remember to separate each of the items in the list you are joining with a comma (,). Forgetting to do so will not trigger an error, but will also give you unexpected results."
      ]
    },
    {
      "cell_type": "markdown",
      "metadata": {
        "id": "NaEnB22pfci9"
      },
      "source": [
        "***append()*** is an other useful method that adds an element to the end of a list."
      ]
    },
    {
      "cell_type": "code",
      "metadata": {
        "id": "XcY1vqKLe1FK",
        "colab": {
          "base_uri": "https://localhost:8080/"
        },
        "outputId": "087131f0-f0ae-4327-b6f9-929f344e2474"
      },
      "source": [
        "letters = ['a', 'b', 'c', 'd']\n",
        "letters.append('e')\n",
        "print(letters)"
      ],
      "execution_count": null,
      "outputs": [
        {
          "output_type": "stream",
          "text": [
            "['a', 'b', 'c', 'd', 'e']\n"
          ],
          "name": "stdout"
        }
      ]
    },
    {
      "cell_type": "markdown",
      "metadata": {
        "id": "HFY2Ty8_hUdo"
      },
      "source": [
        "<br><br>\n",
        "\n",
        "## **14. Tuples:**\n",
        "\n",
        "A tuple is another useful container. It's a data type for immutable ordered sequences of elements. They are often used to store related pieces of information. Consider this example involving (x, y, z) coordinates:"
      ]
    },
    {
      "cell_type": "code",
      "metadata": {
        "id": "_Q0uioLufvgc",
        "colab": {
          "base_uri": "https://localhost:8080/"
        },
        "outputId": "dab88972-063d-445a-c033-ade8181cce69"
      },
      "source": [
        "vector = (4, 5, 9)\n",
        "print(\"x-coordinate:\", vector[0])\n",
        "print(\"y-coordinate:\", vector[1])\n",
        "print(\"z-coordinate:\", vector[2])"
      ],
      "execution_count": null,
      "outputs": [
        {
          "output_type": "stream",
          "text": [
            "x-coordinate: 4\n",
            "y-coordinate: 5\n",
            "z-coordinate: 9\n"
          ],
          "name": "stdout"
        }
      ]
    },
    {
      "cell_type": "markdown",
      "metadata": {
        "id": "_JtjMmZ2rz1t"
      },
      "source": [
        "Tuples are similar to lists in that they store an ordered collection of objects which can be accessed by their indices. Unlike lists, however, tuples are immutable - you can't add and remove items from tuples, or sort them in place.\n",
        "\n",
        "> Tuples can also be used to assign multiple variables in a compact way.\n",
        "\n",
        "> The parentheses are optional when defining tuples, and programmers frequently omit them if parentheses don't clarify the code."
      ]
    },
    {
      "cell_type": "code",
      "metadata": {
        "id": "-a_ISfUIrx65",
        "colab": {
          "base_uri": "https://localhost:8080/"
        },
        "outputId": "d2ea03ed-b9b4-4fe0-bc97-5a506fcdc4c9"
      },
      "source": [
        "location = 108.7774, 92.5556\n",
        "latitude, longtitude = location\n",
        "print(\"The coordinates are {} x {}\".format(latitude, longtitude))"
      ],
      "execution_count": null,
      "outputs": [
        {
          "output_type": "stream",
          "text": [
            "The coordinates are 108.7774 x 92.5556\n"
          ],
          "name": "stdout"
        }
      ]
    },
    {
      "cell_type": "markdown",
      "metadata": {
        "id": "W5LSu94ItjfD"
      },
      "source": [
        "In the second line, two variables are assigned from the content of the tuple location. This is called tuple unpacking. You can use tuple unpacking to assign the information from a tuple into multiple variables without having to access them one by one and make multiple assignment statements.\n",
        "\n",
        "If we won't need to use location directly, we could shorten those two lines of code into a single line that assigns three variables in one go!"
      ]
    },
    {
      "cell_type": "code",
      "metadata": {
        "id": "0d7u9CZ1tgo-",
        "colab": {
          "base_uri": "https://localhost:8080/"
        },
        "outputId": "4a775793-4534-42dc-ccc7-8214fbc7deb9"
      },
      "source": [
        "location = 108.7774, 92.5556\n",
        "\n",
        "print(\"The coordinates are {} x {}\".format(latitude, longtitude))"
      ],
      "execution_count": null,
      "outputs": [
        {
          "output_type": "stream",
          "text": [
            "The coordinates are 108.7774 x 92.5556\n"
          ],
          "name": "stdout"
        }
      ]
    },
    {
      "cell_type": "markdown",
      "metadata": {
        "id": "qYBnISVTzrcg"
      },
      "source": [
        "## **For Loops:**\n",
        "\n",
        "Python has two kinds of loops - for loops and while loops. A for loop is used to \"iterate\", or do something repeatedly, over an iterable.\n",
        "\n",
        "An iterable is an object that can return one of its elements at a time. This can include sequence types, such as strings, lists, and tuples, as well as non-sequence types, such as dictionaries and files.\n",
        "\n",
        "Example:"
      ]
    },
    {
      "cell_type": "code",
      "metadata": {
        "id": "Uklx-pvdG90s",
        "colab": {
          "base_uri": "https://localhost:8080/"
        },
        "outputId": "bd34f5bd-90a6-4226-8747-43774dbbf4e3"
      },
      "source": [
        "cities = ['new york city', 'mountain view', 'chicago', 'los angeles']\n",
        "for city in cities:\n",
        "    print(city)\n",
        "print(\"Done!\")"
      ],
      "execution_count": null,
      "outputs": [
        {
          "output_type": "stream",
          "text": [
            "new york city\n",
            "mountain view\n",
            "chicago\n",
            "los angeles\n",
            "Done!\n"
          ],
          "name": "stdout"
        }
      ]
    },
    {
      "cell_type": "markdown",
      "metadata": {
        "id": "quErSmRaHEol"
      },
      "source": [
        "### **Components of a for Loop:**\n",
        "1. The first line of the loop starts with the *for* keyword, which signals that this is a *for* loop\n",
        "2. Following that is *city in cities*, indicating *city* is the iteration variable, and *cities* is the iterable being looped over. In the first iteration of the loop, *city* gets the value of the first element in *cities*, which is “new york city”.\n",
        "3. The *for* loop heading line always ends with a colon *:*\n",
        "4. Following the *for* loop heading is an indented block of code, the body of the loop, to be executed in each iteration of this loop. There is only one line in the body of this loop - *print(city)*.\n",
        "5. After the body of the loop has executed, we don't move on to the next line yet; we go back to the for heading line, where the iteration variable takes the value of the next element of the iterable. In the second iteration of the loop above, *city* takes the value of the next element in *cities*, which is \"mountain view\".\n",
        "6. This process repeats until the loop has iterated through all the elements of the iterable. Then, we move on to the line that follows the body of the loop - in this case, *print(\"Done!\")*. We can tell what the next line after the body of the loop is because it is unindented. Here is another reason why paying attention to your indentation is very important in Python!"
      ]
    },
    {
      "cell_type": "markdown",
      "metadata": {
        "id": "LkPeOdqhHt-S"
      },
      "source": [
        "> You can name iteration variables however you like. A common pattern is to give the iteration variable and iterable the same names, except the singular and plural versions respectively (e.g., 'city' and 'cities')."
      ]
    },
    {
      "cell_type": "markdown",
      "metadata": {
        "id": "EzjgTy3oJo9U"
      },
      "source": [
        "## **Using the *range()* Function with for Loops:**\n",
        "*range()* is a built-in function used to create an iterable sequence of numbers. You will frequently use *range()* with a for loop to repeat an action a certain number of times, as in this example:\n",
        "\n"
      ]
    },
    {
      "cell_type": "code",
      "metadata": {
        "id": "ZufzUKnLG_49",
        "colab": {
          "base_uri": "https://localhost:8080/"
        },
        "outputId": "de96be56-d977-4d27-83fa-e7931886c5d8"
      },
      "source": [
        "for i in range(3):\n",
        "    print(\"Hello!\")"
      ],
      "execution_count": null,
      "outputs": [
        {
          "output_type": "stream",
          "text": [
            "Hello!\n",
            "Hello!\n",
            "Hello!\n"
          ],
          "name": "stdout"
        }
      ]
    },
    {
      "cell_type": "markdown",
      "metadata": {
        "id": "bAycHJdLM2fZ"
      },
      "source": [
        "## **range(start=0, stop, step=1)**\n",
        "The range() function takes three integer arguments, the first and third of which are optional:\n",
        "\n",
        "- The 'start' argument is the first number of the sequence. If unspecified, 'start' defaults to 0.\n",
        "- The 'stop' argument is 1 more than the last number of the sequence. This argument must be specified.\n",
        "- The 'step' argument is the difference between each number in the sequence. If unspecified, 'step' defaults to 1.\n",
        "\n",
        "\n",
        "Notes on using range():\n",
        "\n",
        "- If you specify one integer inside the parentheses withrange(), it's used as the value for 'stop,' and the defaults are used for the other two. Example-"
      ]
    },
    {
      "cell_type": "code",
      "metadata": {
        "id": "bCyOEET0LKEV",
        "colab": {
          "base_uri": "https://localhost:8080/"
        },
        "outputId": "1ba0519c-4a41-4483-9106-e280d34a299f"
      },
      "source": [
        "for i in range(4):\n",
        "  print(i)"
      ],
      "execution_count": null,
      "outputs": [
        {
          "output_type": "stream",
          "text": [
            "0\n",
            "1\n",
            "2\n",
            "3\n"
          ],
          "name": "stdout"
        }
      ]
    },
    {
      "cell_type": "markdown",
      "metadata": {
        "id": "seR1RsifQoiu"
      },
      "source": [
        "- If you specify two integers inside the parentheses withrange(), they're used for 'start' and 'stop,' and the default is used for 'step.' Example-"
      ]
    },
    {
      "cell_type": "code",
      "metadata": {
        "id": "MNzooFSsQVMb",
        "colab": {
          "base_uri": "https://localhost:8080/"
        },
        "outputId": "406d9b7c-9caf-476b-d489-a957d6040ac6"
      },
      "source": [
        "for i in range(2, 6):\n",
        "  print(i)"
      ],
      "execution_count": null,
      "outputs": [
        {
          "output_type": "stream",
          "text": [
            "2\n",
            "3\n",
            "4\n",
            "5\n"
          ],
          "name": "stdout"
        }
      ]
    },
    {
      "cell_type": "markdown",
      "metadata": {
        "id": "kEKyJFNZQtxM"
      },
      "source": [
        "\n",
        "- Or you can specify all three integers for 'start', 'stop', and 'step.' Example-"
      ]
    },
    {
      "cell_type": "code",
      "metadata": {
        "id": "l2Aztu8AQcue",
        "colab": {
          "base_uri": "https://localhost:8080/"
        },
        "outputId": "cc643331-7c7b-447e-965e-06028d4f3411"
      },
      "source": [
        "for i in range(1, 10, 2):\n",
        "  print(i)"
      ],
      "execution_count": null,
      "outputs": [
        {
          "output_type": "stream",
          "text": [
            "1\n",
            "3\n",
            "5\n",
            "7\n",
            "9\n"
          ],
          "name": "stdout"
        }
      ]
    }
  ]
}